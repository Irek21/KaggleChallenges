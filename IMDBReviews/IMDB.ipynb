{
 "cells": [
  {
   "cell_type": "code",
   "execution_count": 4,
   "metadata": {},
   "outputs": [],
   "source": [
    "import torch\n",
    "import torch.nn as nn\n",
    "import torch.nn.functional as F\n",
    "\n",
    "import pandas as pd\n",
    "\n",
    "import numpy as np\n",
    "\n",
    "import sklearn.preprocessing as prepr\n",
    "from sklearn.feature_extraction.text import CountVectorizer\n",
    "from sklearn.model_selection import train_test_split\n",
    "from sklearn.model_selection import RepeatedKFold\n",
    "\n",
    "import matplotlib.pyplot as plt\n",
    "%matplotlib inline"
   ]
  },
  {
   "cell_type": "code",
   "execution_count": 5,
   "metadata": {},
   "outputs": [
    {
     "data": {
      "text/html": [
       "<div>\n",
       "<style scoped>\n",
       "    .dataframe tbody tr th:only-of-type {\n",
       "        vertical-align: middle;\n",
       "    }\n",
       "\n",
       "    .dataframe tbody tr th {\n",
       "        vertical-align: top;\n",
       "    }\n",
       "\n",
       "    .dataframe thead th {\n",
       "        text-align: right;\n",
       "    }\n",
       "</style>\n",
       "<table border=\"1\" class=\"dataframe\">\n",
       "  <thead>\n",
       "    <tr style=\"text-align: right;\">\n",
       "      <th></th>\n",
       "      <th>review</th>\n",
       "      <th>sentiment</th>\n",
       "    </tr>\n",
       "  </thead>\n",
       "  <tbody>\n",
       "    <tr>\n",
       "      <th>0</th>\n",
       "      <td>One of the other reviewers has mentioned that ...</td>\n",
       "      <td>positive</td>\n",
       "    </tr>\n",
       "    <tr>\n",
       "      <th>1</th>\n",
       "      <td>A wonderful little production. &lt;br /&gt;&lt;br /&gt;The...</td>\n",
       "      <td>positive</td>\n",
       "    </tr>\n",
       "    <tr>\n",
       "      <th>2</th>\n",
       "      <td>I thought this was a wonderful way to spend ti...</td>\n",
       "      <td>positive</td>\n",
       "    </tr>\n",
       "    <tr>\n",
       "      <th>3</th>\n",
       "      <td>Basically there's a family where a little boy ...</td>\n",
       "      <td>negative</td>\n",
       "    </tr>\n",
       "    <tr>\n",
       "      <th>4</th>\n",
       "      <td>Petter Mattei's \"Love in the Time of Money\" is...</td>\n",
       "      <td>positive</td>\n",
       "    </tr>\n",
       "    <tr>\n",
       "      <th>...</th>\n",
       "      <td>...</td>\n",
       "      <td>...</td>\n",
       "    </tr>\n",
       "    <tr>\n",
       "      <th>49995</th>\n",
       "      <td>I thought this movie did a down right good job...</td>\n",
       "      <td>positive</td>\n",
       "    </tr>\n",
       "    <tr>\n",
       "      <th>49996</th>\n",
       "      <td>Bad plot, bad dialogue, bad acting, idiotic di...</td>\n",
       "      <td>negative</td>\n",
       "    </tr>\n",
       "    <tr>\n",
       "      <th>49997</th>\n",
       "      <td>I am a Catholic taught in parochial elementary...</td>\n",
       "      <td>negative</td>\n",
       "    </tr>\n",
       "    <tr>\n",
       "      <th>49998</th>\n",
       "      <td>I'm going to have to disagree with the previou...</td>\n",
       "      <td>negative</td>\n",
       "    </tr>\n",
       "    <tr>\n",
       "      <th>49999</th>\n",
       "      <td>No one expects the Star Trek movies to be high...</td>\n",
       "      <td>negative</td>\n",
       "    </tr>\n",
       "  </tbody>\n",
       "</table>\n",
       "<p>50000 rows × 2 columns</p>\n",
       "</div>"
      ],
      "text/plain": [
       "                                                  review sentiment\n",
       "0      One of the other reviewers has mentioned that ...  positive\n",
       "1      A wonderful little production. <br /><br />The...  positive\n",
       "2      I thought this was a wonderful way to spend ti...  positive\n",
       "3      Basically there's a family where a little boy ...  negative\n",
       "4      Petter Mattei's \"Love in the Time of Money\" is...  positive\n",
       "...                                                  ...       ...\n",
       "49995  I thought this movie did a down right good job...  positive\n",
       "49996  Bad plot, bad dialogue, bad acting, idiotic di...  negative\n",
       "49997  I am a Catholic taught in parochial elementary...  negative\n",
       "49998  I'm going to have to disagree with the previou...  negative\n",
       "49999  No one expects the Star Trek movies to be high...  negative\n",
       "\n",
       "[50000 rows x 2 columns]"
      ]
     },
     "execution_count": 5,
     "metadata": {},
     "output_type": "execute_result"
    }
   ],
   "source": [
    "pd_dataset = pd.read_csv(\"IMDB Dataset.csv\")\n",
    "pd_dataset"
   ]
  },
  {
   "cell_type": "code",
   "execution_count": 6,
   "metadata": {},
   "outputs": [
    {
     "data": {
      "text/plain": [
       "101895"
      ]
     },
     "execution_count": 6,
     "metadata": {},
     "output_type": "execute_result"
    }
   ],
   "source": [
    "vectorizer = CountVectorizer(binary=True)\n",
    "dataset = vectorizer.fit_transform(pd_dataset['review'])\n",
    "len(vectorizer.get_feature_names())"
   ]
  },
  {
   "cell_type": "code",
   "execution_count": 7,
   "metadata": {},
   "outputs": [],
   "source": [
    "dataset_labels = vectorizer.fit_transform(pd_dataset['sentiment'])"
   ]
  },
  {
   "cell_type": "code",
   "execution_count": 8,
   "metadata": {},
   "outputs": [
    {
     "data": {
      "text/plain": [
       "<25000x2 sparse matrix of type '<class 'numpy.int64'>'\n",
       "\twith 25000 stored elements in Compressed Sparse Row format>"
      ]
     },
     "execution_count": 8,
     "metadata": {},
     "output_type": "execute_result"
    }
   ],
   "source": [
    "X_train, X_test, y_train, y_test = train_test_split(dataset, dataset_labels, test_size=0.5)\n",
    "y_train"
   ]
  },
  {
   "cell_type": "code",
   "execution_count": 9,
   "metadata": {
    "scrolled": false
   },
   "outputs": [
    {
     "data": {
      "text/plain": [
       "Sequential(\n",
       "  (0): Sequential(\n",
       "    (0): Linear(in_features=101895, out_features=512, bias=True)\n",
       "    (1): ReLU()\n",
       "    (2): Linear(in_features=512, out_features=512, bias=True)\n",
       "    (3): ReLU()\n",
       "  )\n",
       "  (1): Linear(in_features=512, out_features=2, bias=True)\n",
       "  (2): Softmax(dim=1)\n",
       ")"
      ]
     },
     "execution_count": 9,
     "metadata": {},
     "output_type": "execute_result"
    }
   ],
   "source": [
    "ReLU = nn.ReLU()\n",
    "\n",
    "class text_nn(nn.Module):\n",
    "    def __init__(self):\n",
    "        super(text_nn, self).__init__()\n",
    "        self.fc1 = nn.Linear(101895, 512)\n",
    "        self.relu1 = nn.ReLU()\n",
    "        self.fc2 = nn.Linear(512, 512)\n",
    "        self.relu2 = nn.ReLU()\n",
    "        self.fc3 = nn.Linear(512, 512)\n",
    "        self.relu3 = nn.ReLU()\n",
    "\n",
    "# model creation scheme\n",
    "# cutting the last hidden layer example\n",
    "model = text_nn()\n",
    "fc_layers = nn.Sequential(*list(model.children())[:-2])\n",
    "model = nn.Sequential(\n",
    "    fc_layers,\n",
    "    nn.Linear(512, 2),\n",
    "    nn.Softmax(dim=1)\n",
    ")\n",
    "model"
   ]
  },
  {
   "cell_type": "code",
   "execution_count": 10,
   "metadata": {},
   "outputs": [],
   "source": [
    "num_epochs = 2\n",
    "num_folds = 5\n",
    "hidden_layers = 3\n",
    "train_size = 25000\n",
    "test_size = 25000\n",
    "batch_size = 50\n",
    "# valid_losses_array = np.zeros([hidden_layers, num_epochs])\n",
    "loss_list = []\n",
    "valid_list = []\n",
    "\n",
    "criterion = nn.CrossEntropyLoss()"
   ]
  },
  {
   "cell_type": "code",
   "execution_count": 11,
   "metadata": {},
   "outputs": [],
   "source": [
    "def valid_loss(model, X_valid, y_valid):\n",
    "    total = 0\n",
    "    correct = 0\n",
    "    valid_steps = test_size // batch_size\n",
    "    for i in range(valid_steps):\n",
    "        X_batch = torch.tensor(X_valid[i * batch_size:(i + 1) * batch_size].todense(), dtype=torch.float32)\n",
    "        y_batch = torch.argmax(torch.tensor(y_valid[i * batch_size:(i + 1) * batch_size].todense(), dtype=torch.int8), dim=1)\n",
    "\n",
    "        out = model(X_batch)\n",
    "        _, predicted = torch.max(out.data, 1)\n",
    "        total += y_batch.size(0)\n",
    "        correct += (predicted == y_batch).sum()\n",
    "    \n",
    "    return 100 * correct / total"
   ]
  },
  {
   "cell_type": "code",
   "execution_count": 21,
   "metadata": {},
   "outputs": [],
   "source": [
    "def cross_valid_train(model, num_layers):\n",
    "    train_steps = train_size // batch_size - (train_size // num_folds) // batch_size\n",
    "    # np_losses = np.zeros([num_epochs, num_folds])\n",
    "    optimizer = torch.optim.Adam(model.parameters(), lr=0.001)\n",
    "\n",
    "    fold = 0\n",
    "    rkf = RepeatedKFold(n_splits=num_folds, n_repeats=num_epochs, random_state=12883823)\n",
    "    for train, valid in rkf.split(X_train): # train, valid = cross_validation indexes\n",
    "        X, y = X_train[train], y_train[train]\n",
    "        X_valid, y_valid = X_train[valid], y_train[valid]\n",
    "\n",
    "        for i in range(train_steps):\n",
    "            X_batch = torch.tensor(X[i * batch_size:(i + 1) * batch_size].todense(), dtype=torch.float32)\n",
    "            y_batch = torch.argmax(torch.tensor(y[i * batch_size:(i + 1) * batch_size].todense(), dtype=torch.int8), dim=1)\n",
    "\n",
    "            out = model(X_batch)\n",
    "            loss = criterion(out, y_batch)\n",
    "            loss_list.append(loss)\n",
    "\n",
    "            optimizer.zero_grad()\n",
    "            loss.backward()\n",
    "            optimizer.step()\n",
    "            \n",
    "            if (i % batch_size == 0):\n",
    "                print('Epoch [{}/{}], Step [{}/{}], Loss: {}'\n",
    "                    .format(fold // num_folds + 1, num_epochs, i, train_steps, loss))\n",
    "\n",
    "        # np_losses[fold // num_folds, fold % num_folds] = valid_loss(model, X_valid, y_valid)\n",
    "        fold += 1"
   ]
  },
  {
   "cell_type": "code",
   "execution_count": 22,
   "metadata": {},
   "outputs": [
    {
     "name": "stdout",
     "output_type": "stream",
     "text": [
      "Sequential(\n",
      "  (0): Linear(in_features=101895, out_features=2, bias=True)\n",
      "  (1): Softmax(dim=1)\n",
      ")\n",
      "Epoch [1/2], Step [0/400], Loss: 0.6924487352371216\n",
      "Epoch [1/2], Step [50/400], Loss: 0.6117116808891296\n",
      "Epoch [1/2], Step [100/400], Loss: 0.5369144678115845\n",
      "Epoch [1/2], Step [150/400], Loss: 0.5359147787094116\n",
      "Epoch [1/2], Step [200/400], Loss: 0.5182104706764221\n",
      "Epoch [1/2], Step [250/400], Loss: 0.5346419811248779\n",
      "Epoch [1/2], Step [300/400], Loss: 0.4784109592437744\n",
      "Epoch [1/2], Step [350/400], Loss: 0.5317893028259277\n",
      "Epoch [1/2], Step [0/400], Loss: 0.5077049732208252\n",
      "Epoch [1/2], Step [50/400], Loss: 0.4777146279811859\n",
      "Epoch [1/2], Step [100/400], Loss: 0.40955474972724915\n",
      "Epoch [1/2], Step [150/400], Loss: 0.41738396883010864\n",
      "Epoch [1/2], Step [200/400], Loss: 0.4214268624782562\n",
      "Epoch [1/2], Step [250/400], Loss: 0.43355298042297363\n",
      "Epoch [1/2], Step [300/400], Loss: 0.4706030786037445\n",
      "Epoch [1/2], Step [350/400], Loss: 0.4930161237716675\n",
      "Epoch [1/2], Step [0/400], Loss: 0.4639529883861542\n",
      "Epoch [1/2], Step [50/400], Loss: 0.4194663166999817\n",
      "Epoch [1/2], Step [100/400], Loss: 0.4039704501628876\n",
      "Epoch [1/2], Step [150/400], Loss: 0.4015892744064331\n",
      "Epoch [1/2], Step [200/400], Loss: 0.3926495611667633\n",
      "Epoch [1/2], Step [250/400], Loss: 0.3767108917236328\n",
      "Epoch [1/2], Step [300/400], Loss: 0.40240582823753357\n",
      "Epoch [1/2], Step [350/400], Loss: 0.44740501046180725\n",
      "Epoch [1/2], Step [0/400], Loss: 0.43389713764190674\n",
      "Epoch [1/2], Step [50/400], Loss: 0.37833768129348755\n",
      "Epoch [1/2], Step [100/400], Loss: 0.39124760031700134\n",
      "Epoch [1/2], Step [150/400], Loss: 0.39030179381370544\n",
      "Epoch [1/2], Step [200/400], Loss: 0.38145774602890015\n",
      "Epoch [1/2], Step [250/400], Loss: 0.35725635290145874\n",
      "Epoch [1/2], Step [300/400], Loss: 0.43344271183013916\n",
      "Epoch [1/2], Step [350/400], Loss: 0.4450262486934662\n",
      "Epoch [1/2], Step [0/400], Loss: 0.41890427470207214\n",
      "Epoch [1/2], Step [50/400], Loss: 0.3947220742702484\n",
      "Epoch [1/2], Step [100/400], Loss: 0.3577452003955841\n",
      "Epoch [1/2], Step [150/400], Loss: 0.37271973490715027\n",
      "Epoch [1/2], Step [200/400], Loss: 0.3586529493331909\n",
      "Epoch [1/2], Step [250/400], Loss: 0.35797664523124695\n",
      "Epoch [1/2], Step [300/400], Loss: 0.3614542484283447\n",
      "Epoch [1/2], Step [350/400], Loss: 0.39278462529182434\n",
      "Epoch [2/2], Step [0/400], Loss: 0.404367595911026\n",
      "Epoch [2/2], Step [50/400], Loss: 0.40829598903656006\n",
      "Epoch [2/2], Step [100/400], Loss: 0.36142075061798096\n",
      "Epoch [2/2], Step [150/400], Loss: 0.40366148948669434\n",
      "Epoch [2/2], Step [200/400], Loss: 0.37426406145095825\n",
      "Epoch [2/2], Step [250/400], Loss: 0.37426722049713135\n",
      "Epoch [2/2], Step [300/400], Loss: 0.3453168570995331\n",
      "Epoch [2/2], Step [350/400], Loss: 0.4264189898967743\n",
      "Epoch [2/2], Step [0/400], Loss: 0.3752283453941345\n",
      "Epoch [2/2], Step [50/400], Loss: 0.34953024983406067\n",
      "Epoch [2/2], Step [100/400], Loss: 0.3316149115562439\n",
      "Epoch [2/2], Step [150/400], Loss: 0.370941698551178\n",
      "Epoch [2/2], Step [200/400], Loss: 0.3411230742931366\n",
      "Epoch [2/2], Step [250/400], Loss: 0.360980749130249\n",
      "Epoch [2/2], Step [300/400], Loss: 0.3345613181591034\n",
      "Epoch [2/2], Step [350/400], Loss: 0.412301242351532\n",
      "Epoch [2/2], Step [0/400], Loss: 0.38048112392425537\n",
      "Epoch [2/2], Step [50/400], Loss: 0.34978169202804565\n",
      "Epoch [2/2], Step [100/400], Loss: 0.34669414162635803\n",
      "Epoch [2/2], Step [150/400], Loss: 0.3643799126148224\n",
      "Epoch [2/2], Step [200/400], Loss: 0.3492288589477539\n",
      "Epoch [2/2], Step [250/400], Loss: 0.3582582175731659\n",
      "Epoch [2/2], Step [300/400], Loss: 0.3373039960861206\n",
      "Epoch [2/2], Step [350/400], Loss: 0.3586925268173218\n",
      "Epoch [2/2], Step [0/400], Loss: 0.36888766288757324\n",
      "Epoch [2/2], Step [50/400], Loss: 0.3473764657974243\n",
      "Epoch [2/2], Step [100/400], Loss: 0.3291808068752289\n",
      "Epoch [2/2], Step [150/400], Loss: 0.3612755537033081\n",
      "Epoch [2/2], Step [200/400], Loss: 0.3280527889728546\n",
      "Epoch [2/2], Step [250/400], Loss: 0.34731733798980713\n",
      "Epoch [2/2], Step [300/400], Loss: 0.37782585620880127\n",
      "Epoch [2/2], Step [350/400], Loss: 0.40731167793273926\n",
      "Epoch [2/2], Step [0/400], Loss: 0.3541785180568695\n",
      "Epoch [2/2], Step [50/400], Loss: 0.3497534692287445\n",
      "Epoch [2/2], Step [100/400], Loss: 0.3453902006149292\n",
      "Epoch [2/2], Step [150/400], Loss: 0.33293673396110535\n",
      "Epoch [2/2], Step [200/400], Loss: 0.3346174359321594\n",
      "Epoch [2/2], Step [250/400], Loss: 0.3397781252861023\n",
      "Epoch [2/2], Step [300/400], Loss: 0.3483494222164154\n",
      "Epoch [2/2], Step [350/400], Loss: 0.36471298336982727\n"
     ]
    }
   ],
   "source": [
    "model = nn.Sequential(\n",
    "    nn.Linear(101895, 2),\n",
    "    nn.Softmax(dim=1)\n",
    ")    \n",
    "print(model)\n",
    "cross_valid_train(model, 1)"
   ]
  },
  {
   "cell_type": "code",
   "execution_count": 19,
   "metadata": {},
   "outputs": [
    {
     "name": "stdout",
     "output_type": "stream",
     "text": [
      "Accuracy on test reviews: 89 %\n"
     ]
    }
   ],
   "source": [
    "print('Accuracy on test reviews: %d %%' % valid_loss(model, X_test, y_test))"
   ]
  },
  {
   "cell_type": "code",
   "execution_count": 20,
   "metadata": {},
   "outputs": [
    {
     "data": {
      "text/plain": [
       "[<matplotlib.lines.Line2D at 0x7ff7db57d940>]"
      ]
     },
     "execution_count": 20,
     "metadata": {},
     "output_type": "execute_result"
    },
    {
     "data": {
      "image/png": "[encoded data removed]",
      "text/plain": [
       "<Figure size 432x288 with 1 Axes>"
      ]
     },
     "metadata": {
      "needs_background": "light"
     },
     "output_type": "display_data"
    }
   ],
   "source": [
    "plt.plot(np.arange(len(loss_list)), loss_list)"
   ]
  },
  {
   "cell_type": "code",
   "execution_count": null,
   "metadata": {},
   "outputs": [],
   "source": []
  }
 ],
 "metadata": {
  "kernelspec": {
   "display_name": "Python 3",
   "language": "python",
   "name": "python3"
  },
  "language_info": {
   "codemirror_mode": {
    "name": "ipython",
    "version": 3
   },
   "file_extension": ".py",
   "mimetype": "text/x-python",
   "name": "python",
   "nbconvert_exporter": "python",
   "pygments_lexer": "ipython3",
   "version": "3.6.9"
  }
 },
 "nbformat": 4,
 "nbformat_minor": 2
}
